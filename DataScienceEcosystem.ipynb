{
 "cells": [
  {
   "cell_type": "markdown",
   "id": "75528329-3c2c-4f3c-b6a3-4c7daf58f457",
   "metadata": {},
   "source": [
    "# Data Science Tools and Ecosystem"
   ]
  },
  {
   "cell_type": "markdown",
   "id": "277cf091-a021-436f-bad9-5ee99ae2709d",
   "metadata": {},
   "source": [
    "In this notebook, Data Science Tools and Ecosystem are summarized."
   ]
  },
  {
   "cell_type": "markdown",
   "id": "8958991c-1575-442b-b6c3-8e59c7792396",
   "metadata": {},
   "source": [
    "Some of the popular languages that Data Scientists use are:\n",
    "1. Python\n",
    "2. R\n",
    "3. SQL\n",
    "4. Scala"
   ]
  },
  {
   "cell_type": "markdown",
   "id": "0389135a-bb7e-4dc4-acb7-f186d63827d8",
   "metadata": {},
   "source": [
    "Some of the commonly used libraries used by Data Scientists include:\n",
    "1. NumPy\n",
    "2. Pandas\n",
    "3. Matplotlib\n",
    "4. Seaborn\n",
    "5. Plotly\n",
    "6. Scikit-Learn"
   ]
  },
  {
   "cell_type": "markdown",
   "id": "0998f0bd-2a65-43d4-82a3-1a54ccc09989",
   "metadata": {},
   "source": [
    "#### Data Science Tools\n",
    "\n",
    "| No | Tools |\n",
    "| -- | -- |\n",
    "| 1 | Apache Sparks |\n",
    "| 2 | D3.js |\n",
    "| 3 | IBM SPSS |\n",
    "| 4 | Julia |\n",
    "| 5 | Jupyter Notebook |\n",
    "| 6 | Keras |\n",
    "| 7 | Matlab |"
   ]
  },
  {
   "cell_type": "markdown",
   "id": "7279ef8d-62da-40c2-b8bc-445fbb4da286",
   "metadata": {},
   "source": [
    "### Below are a few examples of evaluating arithmetic expressions in Python"
   ]
  },
  {
   "cell_type": "code",
   "execution_count": 18,
   "id": "ddf0a9c6-6724-4e04-8f82-c2890fbdc53d",
   "metadata": {},
   "outputs": [
    {
     "data": {
      "text/plain": [
       "17"
      ]
     },
     "execution_count": 18,
     "metadata": {},
     "output_type": "execute_result"
    }
   ],
   "source": [
    "#This a simple arithmetic expression to mutiply then add integers\n",
    "\n",
    "(3*4)+5"
   ]
  },
  {
   "cell_type": "code",
   "execution_count": 24,
   "id": "b1643ebc-6b60-4036-90dc-db5787c1dca6",
   "metadata": {},
   "outputs": [
    {
     "name": "stdout",
     "output_type": "stream",
     "text": [
      "3\n"
     ]
    }
   ],
   "source": [
    "#This will convert 200 minutes to hours by diving by 60\n",
    "\n",
    "minute = 200\n",
    "hour = int(minute/60)\n",
    "print(hour)"
   ]
  },
  {
   "cell_type": "markdown",
   "id": "2583e259-6353-45f4-9ab1-06ef85470e56",
   "metadata": {},
   "source": [
    "__Objective__\n",
    "* Python\n",
    "* R\n",
    "* SQL"
   ]
  },
  {
   "cell_type": "markdown",
   "id": "d7e8b8d2-0509-4f54-a605-75384b571b9a",
   "metadata": {},
   "source": [
    "## Author\n",
    "Endra Sumpadang"
   ]
  },
  {
   "cell_type": "code",
   "execution_count": null,
   "id": "8e7af39a-288a-48e3-ab37-22ed9c473103",
   "metadata": {},
   "outputs": [],
   "source": []
  }
 ],
 "metadata": {
  "kernelspec": {
   "display_name": "Python 3 (ipykernel)",
   "language": "python",
   "name": "python3"
  },
  "language_info": {
   "codemirror_mode": {
    "name": "ipython",
    "version": 3
   },
   "file_extension": ".py",
   "mimetype": "text/x-python",
   "name": "python",
   "nbconvert_exporter": "python",
   "pygments_lexer": "ipython3",
   "version": "3.12.4"
  }
 },
 "nbformat": 4,
 "nbformat_minor": 5
}
